{
  "nbformat": 4,
  "nbformat_minor": 0,
  "metadata": {
    "colab": {
      "provenance": []
    },
    "kernelspec": {
      "name": "python3",
      "display_name": "Python 3"
    },
    "language_info": {
      "name": "python"
    }
  },
  "cells": [
    {
      "cell_type": "markdown",
      "source": [
        "# Intro to Azure ML Services\n",
        "Microsoft Azure provides the Azure Machine Learning service - a cloud-based platform for running experiments at scale to train predictive models from data, and publish the trained models as services.\n",
        "\n",
        "Data scientists can use Azure Machine Learning throughout the entire machine learning lifecycle to:\n",
        "\n",
        "- Ingest and prepare data.\n",
        "- Run experiments to explore data and train predictive models.\n",
        "- Deploy and manage trained models as web services.\n",
        "\n",
        "Software engineers may interact with Azure Machine Learning in the following ways:\n",
        "\n",
        "- Using Automated Machine Learning or Azure Machine Learning designer to train machine learning models and deploy them as REST services that can be integrated into AI-enabled applications.\n",
        "- Collaborating with data scientists to deploy models based on common frameworks such as Scikit-Learn, PyTorch, and TensorFlow as web services, and consume them in applications.\n",
        "- Using Azure Machine Learning SDKs or command-line interface (CLI) scripts to orchestrate DevOps processes that manage versioning, deployment, and testing of machine learning models as part of an overall application delivery solution."
      ],
      "metadata": {
        "id": "tQhB5AiIBp9w"
      }
    },
    {
      "cell_type": "markdown",
      "source": [
        "Azure AI Services are cloud-based services that encapsulate AI capabilities. Rather than a single product, you should think of Azure AI Services as a set of individual services that you can use as building blocks to compose sophisticated, intelligent applications.\n",
        "For details see: https://learn.microsoft.com/en-us/training/modules/prepare-to-develop-ai-solutions-azure/7-understand-capabilities-of-azure-cognitive-services\n"
      ],
      "metadata": {
        "id": "CvqvrhOdCfVC"
      }
    },
    {
      "cell_type": "markdown",
      "source": [
        "# Provision and manage Azure AI Services\n",
        "Azure AI Services are building blocks of AI functionality that you can integrate into your applications. In this learning path, you'll learn how to provision, secure. monitor, and deploy Azure AI Services resources and use them to build intelligent solutions.\n",
        "\n",
        "## Create and consume Azure AI Services\n",
        "Azure AI Services enable developers to easily add AI capabilities into their applications. Learn how to create and consume these services.\n",
        "\n",
        "Azure AI Services are cloud-based services that encapsulate AI capabilities. Rather than a single product, you should think of Azure AI Services as a set of individual services that you can use as building blocks to compose sophisticated, intelligent applications.\n",
        "\n",
        "For details of services visit:\n",
        "https://learn.microsoft.com/en-us/training/modules/create-manage-cognitive-services/1-introduction"
      ],
      "metadata": {
        "id": "40n1IcZlDbdG"
      }
    },
    {
      "cell_type": "markdown",
      "source": [
        "You'll learn how to:\n",
        "\n",
        "- Provision Azure AI service resources in an Azure subscription.\n",
        "- Identify endpoints, keys, and locations required to consume an Azure AI service resource.\n",
        "- Use a REST API to consume an Azure AI service.\n",
        "- Use an SDK to consume an Azure AI service."
      ],
      "metadata": {
        "id": "OCMLXHsdFjeZ"
      }
    },
    {
      "cell_type": "markdown",
      "source": [
        "If you have not already cloned AI-102-AIEngineer code repository to the environment where you’re working on this lab, follow these steps to do so. Otherwise, open the cloned folder in Visual Studio Code.\n",
        "\n",
        "1. Start Visual Studio Code.\n",
        "2. Open the palette `(SHIFT+CTRL+P)` and run a Git: Clone command to clone the [AI-102-AIEngineer Repository](https://github.com/MicrosoftLearning/AI-102-AIEngineer) repository to a local folder (it doesn’t matter which folder).\n",
        "3. When the repository has been cloned, open the folder in Visual Studio Code.\n",
        "4. Wait while additional files are installed to support the C# code projects in the repo."
      ],
      "metadata": {
        "id": "mJxniHTyGVdl"
      }
    },
    {
      "cell_type": "markdown",
      "source": [
        "## Provision an Azure AI Services Resource\n",
        "Azure AI Services are cloud-based services that encapsulate artificial intelligence capabilities you can incorporate into your applications. You can provision individual Azure AI services resources for specific APIs (for example, Language or Vision), or you can provision a single Azure AI Services resource that provides access to multiple Azure AI services APIs through a single endpoint and key. In this case, you’ll use a single Azure AI Services resource.\n",
        "\n",
        "1. Open the Azure portal at https://portal.azure.com, and sign in using the Microsoft account associated with your Azure subscription.\n",
        "2. In the top search bar, search for Azure AI services, select Azure AI Services, and create an Azure AI services multi-service account resource with the following settings:\n",
        "  - Subscription: Your Azure subscription\n",
        "  - Resource group: Choose or create a resource group (if you are using a restricted subscription, you may not have permission to create a new resource group - use the one provided)\n",
        "  - Region: Choose any available region\n",
        "  - Name: Enter a unique name\n",
        "  - Pricing tier: Standard S0\n",
        "3. Select the required checkboxes and create the resource.\n",
        "4. Wait for deployment to complete, and then view the deployment details.\n",
        "5. Go to the resource and view its Keys and Endpoint page. This page contains the information that you will need to connect to your resource and use it from applications you develop. Specifically:\n",
        "  - An HTTP endpoint to which client applications can send requests.\n",
        "  - Two keys that can be used for authentication (client applications can use either key to authenticate).\n",
        "  - The location where the resource is hosted. This is required for requests to some (but not all) APIs.\n"
      ],
      "metadata": {
        "id": "SRNqzutsHVC3"
      }
    },
    {
      "cell_type": "markdown",
      "source": [
        "## Use a REST Interface\n",
        "The Azure AI services APIs are REST-based, so you can consume them by submitting JSON requests over HTTP. In this example, you’ll explore a console application that uses the Language REST API to perform language detection; but the basic principle is the same for all of the APIs supported by the Azure AI Services resource."
      ],
      "metadata": {
        "id": "7NVf9P2EIIb-"
      }
    },
    {
      "cell_type": "markdown",
      "source": [
        "1. In Visual Studio Code, in the Explorer pane, browse to the `01-getting-started` folder and Python folder.\n",
        "View the contents of the rest-client folder, and note that it contains a file for configuration settings `.env`.\n",
        "\n",
        "2. Open the configuration file and update the configuration values it contains to reflect the endpoint and an authentication key for your Azure AI services resource. Save your changes.\n",
        "\n",
        "3. Note that the rest-client folder contains a code file for the client application `rest-client.py`.\n",
        "Open the code file and review the code it contains, noting the following details:\n",
        "\n",
        "  - Various namespaces are imported to enable HTTP communication\n",
        "  Code in the Main function retrieves the endpoint and key for your Azure AI services resource - these will be used to send REST requests to the Text Analytics service.\n",
        "  - The program accepts user input, and uses the GetLanguage function to call the Text Analytics language detection REST API for your Azure AI services endpoint to detect the language of the text that was entered.\n",
        "  - The request sent to the API consists of a JSON object containing the input data - in this case, a collection of document objects, each of which has an id and text.\n",
        "  - The key for your service is included in the request header to authenticate your client application.\n",
        "  - The response from the service is a JSON object, which the client application can parse.\n",
        "4. Right-click the rest-client folder and open an integrated terminal. Then enter the following language-specific command to run the program:\n",
        "\n",
        "  ```\n",
        "    python rest-client.py\n",
        "  ```\n",
        "\n",
        "5. When prompted, enter some text and review the language that is detected by the service, which is returned in the JSON response. For example, try entering “Hello”, “Bonjour”, and “Gracias”.\n",
        "6. When you have finished testing the application, enter “quit” to stop the program."
      ],
      "metadata": {
        "id": "s6Dh-AB0ION6"
      }
    },
    {
      "cell_type": "markdown",
      "source": [
        "## Use an SDK\n",
        "You can write code that consumes Azure AI services REST APIs directly, but there are software development kits (SDKs) for many popular programming languages, including Microsoft C#, Python, and Node.js. Using an SDK can greatly simplify development of applications that consume Azure AI services.\n",
        "\n",
        "1. In Visual Studio Code, in the Explorer pane, in the 01-getting-started folder, expand the C-Sharp or Python folder depending on your language preference.\n",
        "2. Right-click the sdk-client folder and open an integrated terminal. Then install the Text Analytics SDK package by running the appropriate command for your language preference:\n",
        "\n",
        "  ```\n",
        "    pip install azure-ai-textanalytics==5.3.0\n",
        "  ```\n",
        "\n",
        "3. View the contents of the sdk-client folder, and note that it contains a file for configuration settings `.env`.\n",
        "Open the configuration file and update the configuration values it contains to reflect the endpoint and an authentication key for your Azure AI services resource. Save your changes.\n",
        "\n",
        "4. Note that the sdk-client folder contains a code file for the client application `sdk-client.py`\n",
        "Open the code file and review the code it contains, noting the following details:\n",
        "\n",
        "  - The namespace for the SDK you installed is imported\n",
        "  - Code in the Main function retrieves the endpoint and key for your Azure AI services resource - these will be used with the SDK to create a client for the Text Analytics service.\n",
        "  - The GetLanguage function uses the SDK to create a client for the service, and then uses the client to detect the language of the text that was entered.\n",
        "\n",
        "\n",
        "5. Return to the integrated terminal for the sdk-client folder, and enter the following command to run the program:\n",
        "```\n",
        "  python sdk-client.py\n",
        "```\n",
        "6. When prompted, enter some text and review the language that is detected by the service. For example, try entering “Goodbye”, “Au revoir”, and “Hasta la vista”.\n",
        "7. When you have finished testing the application, enter “quit” to stop the program.\n"
      ],
      "metadata": {
        "id": "m5lui0v0KHWQ"
      }
    },
    {
      "cell_type": "code",
      "source": [],
      "metadata": {
        "id": "ec2s1dX6LUX0"
      },
      "execution_count": null,
      "outputs": []
    }
  ]
}