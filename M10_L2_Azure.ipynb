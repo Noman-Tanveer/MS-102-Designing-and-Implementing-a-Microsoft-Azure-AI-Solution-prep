{
 "cells": [
  {
   "cell_type": "markdown",
   "metadata": {},
   "source": [
    "# Monitor Azure AI Services\n",
    "Azure AI Services can be a critical part of an overall application infrastructure. It’s important to be able to monitor activity and get alerted to issues that may need attention.\n",
    "\n",
    "## Provision an Azure AI Services resource\n",
    "If you don’t already have one in your subscription, you’ll need to provision an Azure AI Services resource.\n",
    "\n",
    "1. Open the Azure portal at https://portal.azure.com, and sign in using the Microsoft account associated with your Azure subscription.\n",
    "2. In the top search bar, search for Azure AI services, select Azure AI Services, and create an Azure AI services multi-service account resource with the following settings:\n",
    "    - Subscription: Your Azure subscription\n",
    "    - Resource group: Choose or create a resource group (if you are using a restricted subscription, you may not have permission to create a new resource group - use the one provided)\n",
    "    - Region: Choose any available region\n",
    "    - Name: Enter a unique name\n",
    "    - Pricing tier: Standard S0\n",
    "3. Select any required checkboxes and create the resource.\n",
    "4. Wait for deployment to complete, and then view the deployment details.\n",
    "5. When the resource has been deployed, go to it and view its Keys and Endpoint page. Make a note of the endpoint URI - you will need it later.\n",
    "\n",
    "## Configure an alert\n",
    "Let’s start monitoring by defining an alert rule so you can detect activity in your Azure AI services resource.\n",
    "\n",
    "1. In the Azure portal, go to your Azure AI services resource and view its Alerts page (in the Monitoring section).\n",
    "2. Select + Create dropdown, and select Alert rule\n",
    "3. In the Create an alert rule page, under Scope, verify that the your Azure AI services resource is listed. (Close Select a signal pane if open)\n",
    "4. Select Condition tab, and click on the See all signals link to show the Select a signal pane that appears on the right, where you can select a signal type to monitor.\n",
    "5. In the Signal type list, select Activity Log, and then in the filtered list, select List Keys.\n",
    "6. Review the activity over the past 6 hours.\n",
    "7. Select the Actions tab. Note that you can specify an action group. This enables you to configure automated actions when an alert is fired - for example, sending an email notification. We won’t do that in this exercise; but it can be useful to do this in a production environment.\n",
    "8. In the Details tab, set the Alert rule name to Key List Alert.\n",
    "9. Select Review + create.\n",
    "10. Review the configuration for the alert. Select Create and wait for the alert rule to be created.\n",
    "11. Enter the following command to sign into your Azure subscription by using the Azure CLI."
   ]
  },
  {
   "cell_type": "code",
   "execution_count": 2,
   "metadata": {},
   "outputs": [
    {
     "name": "stdout",
     "output_type": "stream",
     "text": [
      "\u001b[93mA web browser has been opened at https://login.microsoftonline.com/organizations/oauth2/v2.0/authorize. Please continue the login in the web browser. If no web browser is available or if the web browser fails to open, use device code flow with `az login --use-device-code`.\u001b[0m\n",
      "[\n",
      "  {\n",
      "    \"cloudName\": \"AzureCloud\",\n",
      "    \"homeTenantId\": \"9f29c0ee-e759-4225-8eb9-8ad87ca0802e\",\n",
      "    \"id\": \"037c30a5-5ce7-43c3-b964-703eeb6b0dd7\",\n",
      "    \"isDefault\": true,\n",
      "    \"managedByTenants\": [],\n",
      "    \"name\": \"Azure subscription 1\",\n",
      "    \"state\": \"Enabled\",\n",
      "    \"tenantId\": \"9f29c0ee-e759-4225-8eb9-8ad87ca0802e\",\n",
      "    \"user\": {\n",
      "      \"name\": \"nomantanveer021@gmail.com\",\n",
      "      \"type\": \"user\"\n",
      "    }\n",
      "  }\n",
      "]\n"
     ]
    }
   ],
   "source": [
    "!az login"
   ]
  },
  {
   "cell_type": "code",
   "execution_count": null,
   "metadata": {},
   "outputs": [],
   "source": [
    "!az cognitiveservices account keys list --name  --resource-group demo"
   ]
  }
 ],
 "metadata": {
  "kernelspec": {
   "display_name": "base",
   "language": "python",
   "name": "python3"
  },
  "language_info": {
   "codemirror_mode": {
    "name": "ipython",
    "version": 3
   },
   "file_extension": ".py",
   "mimetype": "text/x-python",
   "name": "python",
   "nbconvert_exporter": "python",
   "pygments_lexer": "ipython3",
   "version": "3.9.12"
  },
  "orig_nbformat": 4
 },
 "nbformat": 4,
 "nbformat_minor": 2
}
